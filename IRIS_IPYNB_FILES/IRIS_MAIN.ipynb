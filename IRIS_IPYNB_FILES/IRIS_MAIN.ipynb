{
 "cells": [
  {
   "cell_type": "code",
   "execution_count": 1,
   "metadata": {},
   "outputs": [],
   "source": [
    "import numpy as np\n",
    "import pandas as pd\n",
    "import _pickle as pickle"
   ]
  },
  {
   "cell_type": "code",
   "execution_count": 2,
   "metadata": {},
   "outputs": [],
   "source": [
    "with open('iris.dat', 'rb') as fp:\n",
    "    X_train = pickle.load(fp)\n",
    "    X_train_std = pickle.load(fp)\n",
    "    X_test = pickle.load(fp)\n",
    "    X_test_std = pickle.load(fp)\n",
    "    y_train = pickle.load(fp)\n",
    "    y_test = pickle.load(fp)"
   ]
  },
  {
   "cell_type": "code",
   "execution_count": 3,
   "metadata": {},
   "outputs": [
    {
     "name": "stdout",
     "output_type": "stream",
     "text": [
      "X_train shape:  (400, 6)\n",
      "X_test shape:  (100, 6)\n",
      "y_train shape:  (400,)\n",
      "y_test shape:  (100,)\n"
     ]
    }
   ],
   "source": [
    "print(\"X_train shape: \", X_train.shape)\n",
    "print(\"X_test shape: \", X_test.shape)\n",
    "print(\"y_train shape: \", y_train.shape)\n",
    "print(\"y_test shape: \", y_test.shape)"
   ]
  },
  {
   "cell_type": "markdown",
   "metadata": {},
   "source": [
    "# logistic regression"
   ]
  },
  {
   "cell_type": "code",
   "execution_count": 4,
   "metadata": {},
   "outputs": [],
   "source": [
    "from sklearn.linear_model import LogisticRegression\n",
    "from sklearn.model_selection import cross_val_score"
   ]
  },
  {
   "cell_type": "code",
   "execution_count": 5,
   "metadata": {},
   "outputs": [
    {
     "name": "stdout",
     "output_type": "stream",
     "text": [
      "log_scores:  [0.65  0.625 0.75  0.7   0.6   0.55  0.575 0.625 0.65  0.65 ]\n",
      "Mean score:  0.6375\n",
      "Std deviation:  0.05505678886386309\n"
     ]
    }
   ],
   "source": [
    "log_model = LogisticRegression(solver = 'lbfgs', random_state = 42)\n",
    "log_scores = cross_val_score(log_model, X_train_std, y_train, cv = 10)\n",
    "print(\"log_scores: \", log_scores)\n",
    "print(\"Mean score: \", log_scores.mean())\n",
    "print(\"Std deviation: \", log_scores.std())"
   ]
  },
  {
   "cell_type": "code",
   "execution_count": 6,
   "metadata": {},
   "outputs": [
    {
     "data": {
      "text/plain": [
       "LogisticRegression(C=1.0, class_weight=None, dual=False, fit_intercept=True,\n",
       "                   intercept_scaling=1, l1_ratio=None, max_iter=100,\n",
       "                   multi_class='warn', n_jobs=None, penalty='l2',\n",
       "                   random_state=42, solver='lbfgs', tol=0.0001, verbose=0,\n",
       "                   warm_start=False)"
      ]
     },
     "execution_count": 6,
     "metadata": {},
     "output_type": "execute_result"
    }
   ],
   "source": [
    "log_model.fit(X_train_std, y_train)"
   ]
  },
  {
   "cell_type": "code",
   "execution_count": 7,
   "metadata": {},
   "outputs": [
    {
     "name": "stdout",
     "output_type": "stream",
     "text": [
      "0.62\n"
     ]
    }
   ],
   "source": [
    "log_reg_score = log_model.score(X_test_std, y_test)\n",
    "print(log_reg_score)"
   ]
  },
  {
   "cell_type": "code",
   "execution_count": 8,
   "metadata": {},
   "outputs": [],
   "source": [
    "log_yy_pred = log_model.predict(X_test_std)"
   ]
  },
  {
   "cell_type": "code",
   "execution_count": 9,
   "metadata": {},
   "outputs": [
    {
     "name": "stdout",
     "output_type": "stream",
     "text": [
      "[[41  9]\n",
      " [29 21]]\n"
     ]
    }
   ],
   "source": [
    "from sklearn.metrics import confusion_matrix\n",
    "confMatrix = confusion_matrix(y_true=y_test, y_pred=log_yy_pred)\n",
    "print(confMatrix)"
   ]
  },
  {
   "cell_type": "code",
   "execution_count": 10,
   "metadata": {},
   "outputs": [
    {
     "name": "stdout",
     "output_type": "stream",
     "text": [
      "Precision: 0.700\n",
      "Recall: 0.420\n",
      "F1: 0.525\n"
     ]
    }
   ],
   "source": [
    "from sklearn.metrics import precision_score, recall_score, f1_score\n",
    "\n",
    "print('Precision: %.3f' % precision_score(y_true=y_test, y_pred=log_yy_pred))\n",
    "print('Recall: %.3f' % recall_score(y_true=y_test, y_pred=log_yy_pred))\n",
    "print('F1: %.3f' % f1_score(y_true=y_test, y_pred=log_yy_pred))"
   ]
  },
  {
   "cell_type": "markdown",
   "metadata": {},
   "source": [
    "# SVM"
   ]
  },
  {
   "cell_type": "markdown",
   "metadata": {},
   "source": [
    "## linear kernel"
   ]
  },
  {
   "cell_type": "code",
   "execution_count": 11,
   "metadata": {},
   "outputs": [],
   "source": [
    "from sklearn.svm import SVC"
   ]
  },
  {
   "cell_type": "code",
   "execution_count": 12,
   "metadata": {},
   "outputs": [],
   "source": [
    "svm_linear_model = SVC(C=17, cache_size=200, class_weight=None, coef0=0.0,\n",
    "  decision_function_shape='ovr', degree=3, gamma='auto_deprecated',\n",
    "  kernel='linear', max_iter=-1, probability=False, random_state=42,\n",
    "  shrinking=True, tol=0.001, verbose=False)"
   ]
  },
  {
   "cell_type": "code",
   "execution_count": 13,
   "metadata": {},
   "outputs": [
    {
     "name": "stdout",
     "output_type": "stream",
     "text": [
      "svm_linear_scores:  [0.75  0.625 0.7   0.725 0.65  0.575 0.6   0.65  0.7   0.6  ]\n",
      "Mean score:  0.6575\n",
      "Std deviation:  0.055957573213998475\n"
     ]
    }
   ],
   "source": [
    "svm_linear_scores = cross_val_score(svm_linear_model, X_train_std, y_train, cv = 10)\n",
    "print(\"svm_linear_scores: \", svm_linear_scores)\n",
    "print(\"Mean score: \", svm_linear_scores.mean())\n",
    "print(\"Std deviation: \", svm_linear_scores.std())"
   ]
  },
  {
   "cell_type": "code",
   "execution_count": 14,
   "metadata": {},
   "outputs": [
    {
     "data": {
      "text/plain": [
       "0.58"
      ]
     },
     "execution_count": 14,
     "metadata": {},
     "output_type": "execute_result"
    }
   ],
   "source": [
    "svm_linear_model.fit(X_train_std, y_train)\n",
    "svm_linear_score = svm_linear_model.score(X_test_std, y_test)\n",
    "svm_linear_score"
   ]
  },
  {
   "cell_type": "code",
   "execution_count": 15,
   "metadata": {},
   "outputs": [
    {
     "data": {
      "text/plain": [
       "array([1, 0, 0, 0, 0, 0, 0, 0, 0, 0, 0, 1, 1, 0, 0, 0, 0, 1, 1, 0, 0, 0,\n",
       "       0, 0, 0, 0, 0, 0, 0, 1, 0, 0, 0, 1, 0, 0, 1, 0, 0, 0, 0, 0, 0, 0,\n",
       "       0, 0, 0, 0, 0, 0, 0, 1, 0, 0, 1, 0, 0, 0, 0, 1, 0, 0, 0, 0, 0, 0,\n",
       "       0, 0, 0, 1, 1, 0, 0, 0, 0, 0, 1, 1, 0, 0, 0, 0, 1, 0, 0, 1, 0, 0,\n",
       "       0, 0, 0, 0, 0, 0, 0, 1, 0, 0, 0, 0])"
      ]
     },
     "execution_count": 15,
     "metadata": {},
     "output_type": "execute_result"
    }
   ],
   "source": [
    "svm_linear_yy_pred = svm_linear_model.predict(X_test_std) \n",
    "svm_linear_yy_pred"
   ]
  },
  {
   "cell_type": "code",
   "execution_count": 16,
   "metadata": {},
   "outputs": [
    {
     "name": "stdout",
     "output_type": "stream",
     "text": [
      "[[45  5]\n",
      " [37 13]]\n"
     ]
    }
   ],
   "source": [
    "svm_linear_model_confMatrix = confusion_matrix(y_true=y_test, y_pred=svm_linear_yy_pred)\n",
    "print(svm_linear_model_confMatrix)"
   ]
  },
  {
   "cell_type": "code",
   "execution_count": 17,
   "metadata": {},
   "outputs": [
    {
     "name": "stdout",
     "output_type": "stream",
     "text": [
      "Precision: 0.722\n",
      "Recall: 0.260\n",
      "F1: 0.382\n"
     ]
    }
   ],
   "source": [
    "print('Precision: %.3f' % precision_score(y_true=y_test, y_pred=svm_linear_yy_pred))\n",
    "print('Recall: %.3f' % recall_score(y_true=y_test, y_pred=svm_linear_yy_pred))\n",
    "print('F1: %.3f' % f1_score(y_true=y_test, y_pred=svm_linear_yy_pred))"
   ]
  },
  {
   "cell_type": "markdown",
   "metadata": {},
   "source": [
    "# rbf kernel"
   ]
  },
  {
   "cell_type": "code",
   "execution_count": 18,
   "metadata": {},
   "outputs": [],
   "source": [
    "#Best estimator obtained from rbf file\n",
    "svm_rbf_model = SVC(C=1, cache_size=200, class_weight=None, coef0=0.0,\n",
    "  decision_function_shape='ovr', degree=3, gamma=0.9999999999999999,\n",
    "  kernel='rbf', max_iter=-1, probability=False, random_state=1,\n",
    "  shrinking=True, tol=0.001, verbose=False)"
   ]
  },
  {
   "cell_type": "code",
   "execution_count": 19,
   "metadata": {},
   "outputs": [
    {
     "name": "stdout",
     "output_type": "stream",
     "text": [
      "svm_linear_scores:  [0.775 0.7   0.75  0.775 0.675 0.675 0.575 0.675 0.825 0.625]\n",
      "Mean score:  0.705\n",
      "Std deviation:  0.0722841614740048\n"
     ]
    }
   ],
   "source": [
    "svm_rbf_scores = cross_val_score(svm_rbf_model, X_train_std, y_train, cv = 10)\n",
    "print(\"svm_linear_scores: \", svm_rbf_scores)\n",
    "print(\"Mean score: \", svm_rbf_scores.mean())\n",
    "print(\"Std deviation: \", svm_rbf_scores.std())"
   ]
  },
  {
   "cell_type": "code",
   "execution_count": 20,
   "metadata": {},
   "outputs": [
    {
     "data": {
      "text/plain": [
       "0.71"
      ]
     },
     "execution_count": 20,
     "metadata": {},
     "output_type": "execute_result"
    }
   ],
   "source": [
    "svm_rbf_model.fit(X_train_std, y_train)\n",
    "svm_rbf_score = svm_rbf_model.score(X_test_std, y_test)\n",
    "svm_rbf_score"
   ]
  },
  {
   "cell_type": "code",
   "execution_count": 21,
   "metadata": {},
   "outputs": [],
   "source": [
    "svm_rbf_yy_pred = svm_rbf_model.predict(X_test_std) "
   ]
  },
  {
   "cell_type": "code",
   "execution_count": 22,
   "metadata": {},
   "outputs": [
    {
     "name": "stdout",
     "output_type": "stream",
     "text": [
      "[[41  9]\n",
      " [20 30]]\n"
     ]
    }
   ],
   "source": [
    "svm_rbf_model_confMatrix = confusion_matrix(y_true=y_test, y_pred=svm_rbf_yy_pred)\n",
    "print(svm_rbf_model_confMatrix)"
   ]
  },
  {
   "cell_type": "code",
   "execution_count": 23,
   "metadata": {},
   "outputs": [
    {
     "name": "stdout",
     "output_type": "stream",
     "text": [
      "Precision: 0.769\n",
      "Recall: 0.600\n",
      "F1: 0.674\n"
     ]
    }
   ],
   "source": [
    "print('Precision: %.3f' % precision_score(y_true=y_test, y_pred=svm_rbf_yy_pred))\n",
    "print('Recall: %.3f' % recall_score(y_true=y_test, y_pred=svm_rbf_yy_pred))\n",
    "print('F1: %.3f' % f1_score(y_true=y_test, y_pred=svm_rbf_yy_pred))"
   ]
  },
  {
   "cell_type": "markdown",
   "metadata": {},
   "source": [
    " # decision tree classifier"
   ]
  },
  {
   "cell_type": "code",
   "execution_count": 24,
   "metadata": {},
   "outputs": [],
   "source": [
    "from sklearn.tree import DecisionTreeClassifier"
   ]
  },
  {
   "cell_type": "code",
   "execution_count": 25,
   "metadata": {},
   "outputs": [],
   "source": [
    "# using hyperparameter dec_tree\n",
    "tree_clf_model = DecisionTreeClassifier(class_weight=None, criterion='gini', max_depth=2,\n",
    "            max_features=None, max_leaf_nodes=None,\n",
    "            min_impurity_decrease=0.0, min_impurity_split=None,\n",
    "            min_samples_leaf=1, min_samples_split=2,\n",
    "            min_weight_fraction_leaf=0.0, presort=False, random_state=1,\n",
    "            splitter='best')"
   ]
  },
  {
   "cell_type": "code",
   "execution_count": 26,
   "metadata": {},
   "outputs": [
    {
     "name": "stdout",
     "output_type": "stream",
     "text": [
      "svm_linear_scores:  [0.65  0.7   0.8   0.75  0.6   0.725 0.575 0.65  0.675 0.65 ]\n",
      "Mean score:  0.6775\n",
      "Std deviation:  0.06466258578188783\n"
     ]
    }
   ],
   "source": [
    "tree_clf_scores = cross_val_score(tree_clf_model, X_train_std, y_train, cv = 10)\n",
    "print(\"svm_linear_scores: \", tree_clf_scores)\n",
    "print(\"Mean score: \", tree_clf_scores.mean())\n",
    "print(\"Std deviation: \", tree_clf_scores.std())"
   ]
  },
  {
   "cell_type": "code",
   "execution_count": 27,
   "metadata": {},
   "outputs": [
    {
     "data": {
      "text/plain": [
       "0.69"
      ]
     },
     "execution_count": 27,
     "metadata": {},
     "output_type": "execute_result"
    }
   ],
   "source": [
    "tree_clf_model.fit(X_train_std, y_train)\n",
    "tree_clf_score = tree_clf_model.score(X_test_std, y_test)\n",
    "tree_clf_score"
   ]
  },
  {
   "cell_type": "code",
   "execution_count": 28,
   "metadata": {},
   "outputs": [],
   "source": [
    "tree_clf_yy_pred = tree_clf_model.predict(X_test_std)"
   ]
  },
  {
   "cell_type": "code",
   "execution_count": 29,
   "metadata": {},
   "outputs": [
    {
     "name": "stdout",
     "output_type": "stream",
     "text": [
      "[[29 21]\n",
      " [10 40]]\n"
     ]
    }
   ],
   "source": [
    "tree_clf_model_confMatrix = confusion_matrix(y_true=y_test, y_pred=tree_clf_yy_pred)\n",
    "print(tree_clf_model_confMatrix)"
   ]
  },
  {
   "cell_type": "code",
   "execution_count": 30,
   "metadata": {},
   "outputs": [
    {
     "name": "stdout",
     "output_type": "stream",
     "text": [
      "Precision: 0.656\n",
      "Recall: 0.800\n",
      "F1: 0.721\n"
     ]
    }
   ],
   "source": [
    "print('Precision: %.3f' % precision_score(y_true=y_test, y_pred=tree_clf_yy_pred))\n",
    "print('Recall: %.3f' % recall_score(y_true=y_test, y_pred=tree_clf_yy_pred))\n",
    "print('F1: %.3f' % f1_score(y_true=y_test, y_pred=tree_clf_yy_pred))"
   ]
  },
  {
   "cell_type": "markdown",
   "metadata": {},
   "source": [
    "# adaboost classifier"
   ]
  },
  {
   "cell_type": "code",
   "execution_count": 31,
   "metadata": {},
   "outputs": [],
   "source": [
    "from sklearn.ensemble import AdaBoostClassifier"
   ]
  },
  {
   "cell_type": "code",
   "execution_count": 32,
   "metadata": {},
   "outputs": [],
   "source": [
    "adaboost_clf = AdaBoostClassifier(algorithm='SAMME.R',\n",
    "          base_estimator=DecisionTreeClassifier(class_weight=None, criterion='gini', max_depth=1,\n",
    "            max_features=None, max_leaf_nodes=None,\n",
    "            min_impurity_decrease=0.0, min_impurity_split=None,\n",
    "            min_samples_leaf=1, min_samples_split=2,\n",
    "            min_weight_fraction_leaf=0.0, presort=False, random_state=42,\n",
    "            splitter='best'),\n",
    "          learning_rate=0.8999999999999999, n_estimators=20,\n",
    "          random_state=42)"
   ]
  },
  {
   "cell_type": "code",
   "execution_count": 33,
   "metadata": {},
   "outputs": [
    {
     "name": "stdout",
     "output_type": "stream",
     "text": [
      "adaboost_clf_scores: [0.7   0.6   0.75  0.775 0.525 0.6   0.625 0.725 0.675 0.65 ]\n",
      "adaboost_clf_mean: 0.6625\n",
      "adaboost_clf.std: 0.07352720584926371\n"
     ]
    }
   ],
   "source": [
    "adaboost_clf_scores = cross_val_score(adaboost_clf,X_train_std,y_train,cv = 10)\n",
    "print(\"adaboost_clf_scores:\",adaboost_clf_scores)\n",
    "print(\"adaboost_clf_mean:\",adaboost_clf_scores.mean())\n",
    "print(\"adaboost_clf.std:\",adaboost_clf_scores.std())"
   ]
  },
  {
   "cell_type": "code",
   "execution_count": 34,
   "metadata": {},
   "outputs": [
    {
     "data": {
      "text/plain": [
       "0.71"
      ]
     },
     "execution_count": 34,
     "metadata": {},
     "output_type": "execute_result"
    }
   ],
   "source": [
    "adaboost_clf.fit(X_train_std,y_train)\n",
    "adaboost_score = adaboost_clf.score(X_test_std,y_test)\n",
    "adaboost_score"
   ]
  },
  {
   "cell_type": "code",
   "execution_count": 35,
   "metadata": {},
   "outputs": [],
   "source": [
    "adaboost_yy_pred = adaboost_clf.predict(X_test_std)"
   ]
  },
  {
   "cell_type": "code",
   "execution_count": 36,
   "metadata": {},
   "outputs": [
    {
     "name": "stdout",
     "output_type": "stream",
     "text": [
      "[[36 14]\n",
      " [15 35]]\n"
     ]
    }
   ],
   "source": [
    "adaboost_clf_confMatrix = confusion_matrix(y_true=y_test,y_pred = adaboost_yy_pred)\n",
    "print(adaboost_clf_confMatrix)"
   ]
  },
  {
   "cell_type": "markdown",
   "metadata": {},
   "source": [
    "# gradient boosting classification"
   ]
  },
  {
   "cell_type": "code",
   "execution_count": 37,
   "metadata": {},
   "outputs": [],
   "source": [
    "from sklearn.ensemble import GradientBoostingClassifier"
   ]
  },
  {
   "cell_type": "code",
   "execution_count": 38,
   "metadata": {},
   "outputs": [],
   "source": [
    "grad_boost_clf = GradientBoostingClassifier(criterion='friedman_mse', init=None,\n",
    "              learning_rate=0.5, loss='deviance', max_depth=8,\n",
    "              max_features=None, max_leaf_nodes=None,\n",
    "              min_impurity_decrease=0.0, min_impurity_split=None,\n",
    "              min_samples_leaf=1, min_samples_split=2,\n",
    "              min_weight_fraction_leaf=0.0, n_estimators=8,\n",
    "              n_iter_no_change=None, presort='auto', random_state=42,\n",
    "              subsample=1.0, tol=0.0001, validation_fraction=0.1,\n",
    "              verbose=0, warm_start=False)"
   ]
  },
  {
   "cell_type": "code",
   "execution_count": 39,
   "metadata": {},
   "outputs": [
    {
     "name": "stdout",
     "output_type": "stream",
     "text": [
      "grad_boost_clf_scores: [0.775 0.675 0.775 0.825 0.775 0.675 0.45  0.7   0.55  0.625]\n",
      "grad_boost_clf_mean: 0.6825\n",
      "grad_boost_clf.std: 0.11014195385955343\n"
     ]
    }
   ],
   "source": [
    "grad_boost_clf_scores = cross_val_score(grad_boost_clf,X_train_std,y_train,cv = 10)\n",
    "print(\"grad_boost_clf_scores:\",grad_boost_clf_scores)\n",
    "print(\"grad_boost_clf_mean:\",grad_boost_clf_scores.mean())\n",
    "print(\"grad_boost_clf.std:\",grad_boost_clf_scores.std())"
   ]
  },
  {
   "cell_type": "code",
   "execution_count": 40,
   "metadata": {},
   "outputs": [
    {
     "data": {
      "text/plain": [
       "0.63"
      ]
     },
     "execution_count": 40,
     "metadata": {},
     "output_type": "execute_result"
    }
   ],
   "source": [
    "grad_boost_clf.fit(X_train_std,y_train)\n",
    "grad_boost_clf_score = grad_boost_clf.score(X_test_std,y_test)\n",
    "grad_boost_clf_score"
   ]
  },
  {
   "cell_type": "code",
   "execution_count": 41,
   "metadata": {},
   "outputs": [],
   "source": [
    "grad_boost_pred = grad_boost_clf.predict(X_test_std)"
   ]
  },
  {
   "cell_type": "code",
   "execution_count": 42,
   "metadata": {},
   "outputs": [
    {
     "name": "stdout",
     "output_type": "stream",
     "text": [
      "[[36 14]\n",
      " [23 27]]\n"
     ]
    }
   ],
   "source": [
    "grad_boost_clf_confMatrix = confusion_matrix(y_true=y_test, y_pred=grad_boost_pred)\n",
    "print(grad_boost_clf_confMatrix)"
   ]
  },
  {
   "cell_type": "code",
   "execution_count": 43,
   "metadata": {},
   "outputs": [
    {
     "name": "stdout",
     "output_type": "stream",
     "text": [
      "Precision: 0.659\n",
      "Recall: 0.540\n",
      "F1: 0.593\n"
     ]
    }
   ],
   "source": [
    "print('Precision: %.3f' % precision_score(y_true=y_test, y_pred=grad_boost_pred))\n",
    "print('Recall: %.3f' % recall_score(y_true=y_test, y_pred=grad_boost_pred))\n",
    "print('F1: %.3f' % f1_score(y_true=y_test, y_pred=grad_boost_pred))"
   ]
  },
  {
   "cell_type": "markdown",
   "metadata": {},
   "source": [
    "# random forest"
   ]
  },
  {
   "cell_type": "code",
   "execution_count": 44,
   "metadata": {},
   "outputs": [],
   "source": [
    "from sklearn.ensemble import RandomForestClassifier"
   ]
  },
  {
   "cell_type": "code",
   "execution_count": 45,
   "metadata": {},
   "outputs": [],
   "source": [
    "rand_forest_clf = RandomForestClassifier(bootstrap=True, class_weight=None, criterion='gini',\n",
    "            max_depth=None, max_features='auto', max_leaf_nodes=5,\n",
    "            min_impurity_decrease=0.0, min_impurity_split=None,\n",
    "            min_samples_leaf=1, min_samples_split=2,\n",
    "            min_weight_fraction_leaf=0.0, n_estimators=12, n_jobs=None,\n",
    "            oob_score=False, random_state=None, verbose=0,\n",
    "            warm_start=False)"
   ]
  },
  {
   "cell_type": "code",
   "execution_count": 46,
   "metadata": {},
   "outputs": [
    {
     "name": "stdout",
     "output_type": "stream",
     "text": [
      "rand_forest_clf_scores: [0.7   0.65  0.675 0.775 0.625 0.65  0.575 0.7   0.675 0.65 ]\n",
      "rand_forest_clf _mean: 0.6675\n",
      "rand_forest_clf_std: 0.05006246098625197\n"
     ]
    }
   ],
   "source": [
    "rand_forest_clf_scores = cross_val_score(rand_forest_clf,X_train_std,y_train,cv = 10)\n",
    "print(\"rand_forest_clf_scores:\",rand_forest_clf_scores)\n",
    "print(\"rand_forest_clf _mean:\",rand_forest_clf_scores.mean())\n",
    "print(\"rand_forest_clf_std:\",rand_forest_clf_scores.std())"
   ]
  },
  {
   "cell_type": "code",
   "execution_count": 47,
   "metadata": {},
   "outputs": [
    {
     "data": {
      "text/plain": [
       "0.71"
      ]
     },
     "execution_count": 47,
     "metadata": {},
     "output_type": "execute_result"
    }
   ],
   "source": [
    "rand_forest_clf.fit(X_train_std,y_train)\n",
    "rand_forest_clf_score = rand_forest_clf.score(X_test_std,y_test)\n",
    "rand_forest_clf_score"
   ]
  },
  {
   "cell_type": "code",
   "execution_count": 48,
   "metadata": {},
   "outputs": [],
   "source": [
    "rand_forest_clf_pred = rand_forest_clf.predict(X_test_std)"
   ]
  },
  {
   "cell_type": "code",
   "execution_count": 49,
   "metadata": {},
   "outputs": [
    {
     "name": "stdout",
     "output_type": "stream",
     "text": [
      "[[38 12]\n",
      " [17 33]]\n"
     ]
    }
   ],
   "source": [
    "rand_forest_clf_confMatrix = confusion_matrix(y_true=y_test, y_pred=rand_forest_clf_pred)\n",
    "print(rand_forest_clf_confMatrix)"
   ]
  },
  {
   "cell_type": "code",
   "execution_count": 50,
   "metadata": {},
   "outputs": [
    {
     "name": "stdout",
     "output_type": "stream",
     "text": [
      "Precision: 0.733\n",
      "Recall: 0.660\n",
      "F1: 0.695\n"
     ]
    }
   ],
   "source": [
    "print('Precision: %.3f' % precision_score(y_true=y_test, y_pred=rand_forest_clf_pred))\n",
    "print('Recall: %.3f' % recall_score(y_true=y_test, y_pred=rand_forest_clf_pred))\n",
    "print('F1: %.3f' % f1_score(y_true=y_test, y_pred=rand_forest_clf_pred))"
   ]
  },
  {
   "cell_type": "markdown",
   "metadata": {},
   "source": [
    "# plotting of classification scores"
   ]
  },
  {
   "cell_type": "code",
   "execution_count": 51,
   "metadata": {},
   "outputs": [],
   "source": [
    "import matplotlib.pyplot as plt\n",
    "%matplotlib inline"
   ]
  },
  {
   "cell_type": "code",
   "execution_count": 52,
   "metadata": {},
   "outputs": [
    {
     "data": {
      "image/png": "[encoded data removed]",
      "text/plain": [
       "<Figure size 432x288 with 1 Axes>"
      ]
     },
     "metadata": {
      "needs_background": "light"
     },
     "output_type": "display_data"
    }
   ],
   "source": [
    "x_plot = range(7)\n",
    "y_plot = [log_reg_score,svm_linear_score,svm_rbf_score,tree_clf_score,adaboost_score,grad_boost_clf_score,rand_forest_clf_score]\n",
    "x_label = [\"logistic_regression\",\"svm_linear\",\"svm_rbf\",\"decision_tree\",\"ada_boost\",\"gradient_boost\",\"random_forest\"]\n",
    "#plt.bar(x_label[0],y_plot[0],width = 0.5)\n",
    "#plt.bar(x_label[1],y_plot[1],width = 0.5)\n",
    "plt.xticks(x_plot,x_label,rotation = 90,color = \"black\")\n",
    "#plt.bar(x_plot,y_plot,width = 0.4)\n",
    "for i in range(7):\n",
    "    plt.bar(x_plot[i],y_plot[i],width = 0.4)\n",
    "\n",
    "for j in range(len(x_plot)):\n",
    "    plt.text(x = x_plot[j]-.10,y = y_plot[j]+0.03,s = \"%.3f\" %(y_plot[j]),size = 10)\n",
    "    \n",
    "    \n",
    "plt.ylabel(\"score\")\n",
    "plt.xlabel(\"classification models\")\n",
    "plt.ylim([0,1.2]) \n",
    "plt.title(\"score performance\")\n",
    "plt.show()"
   ]
  },
  {
   "cell_type": "code",
   "execution_count": null,
   "metadata": {},
   "outputs": [],
   "source": []
  }
 ],
 "metadata": {
  "kernelspec": {
   "display_name": "Python 3",
   "language": "python",
   "name": "python3"
  },
  "language_info": {
   "codemirror_mode": {
    "name": "ipython",
    "version": 3
   },
   "file_extension": ".py",
   "mimetype": "text/x-python",
   "name": "python",
   "nbconvert_exporter": "python",
   "pygments_lexer": "ipython3",
   "version": "3.6.7"
  }
 },
 "nbformat": 4,
 "nbformat_minor": 2
}
