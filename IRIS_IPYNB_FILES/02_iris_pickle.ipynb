{
 "cells": [
  {
   "cell_type": "code",
   "execution_count": 1,
   "metadata": {},
   "outputs": [],
   "source": [
    "import numpy as np\n",
    "import pandas as pd\n",
    "iris_data = pd.read_csv('/home/arjun/machinelearning/num_exe/iris project/iris_Data.csv')"
   ]
  },
  {
   "cell_type": "code",
   "execution_count": 2,
   "metadata": {},
   "outputs": [],
   "source": [
    "X = iris_data.drop('Label',axis = 1)\n",
    "y = iris_data['Label']\n",
    "from sklearn.model_selection import train_test_split\n",
    "X_train, X_test, y_train, y_test = train_test_split(\n",
    "    X, y, test_size = 0.2,stratify = y,random_state = 42)\n",
    "from sklearn.preprocessing import StandardScaler\n",
    "sc_model = StandardScaler()\n",
    "sc_model.fit(X_train)\n",
    "X_train_std = sc_model.transform(X_train)\n",
    "X_test_std = sc_model.transform(X_test)"
   ]
  },
  {
   "cell_type": "code",
   "execution_count": 3,
   "metadata": {},
   "outputs": [],
   "source": [
    "import _pickle as pickle"
   ]
  },
  {
   "cell_type": "code",
   "execution_count": 4,
   "metadata": {},
   "outputs": [],
   "source": [
    "with open('iris.dat','wb') as fp:\n",
    "    pickle.dump(X_train,fp)\n",
    "    pickle.dump(X_train_std,fp)\n",
    "    pickle.dump(X_test,fp)\n",
    "    pickle.dump(X_test_std,fp)    \n",
    "    pickle.dump(y_train,fp)   \n",
    "    pickle.dump(y_test,fp )   "
   ]
  },
  {
   "cell_type": "code",
   "execution_count": null,
   "metadata": {},
   "outputs": [],
   "source": []
  }
 ],
 "metadata": {
  "kernelspec": {
   "display_name": "Python 3",
   "language": "python",
   "name": "python3"
  },
  "language_info": {
   "codemirror_mode": {
    "name": "ipython",
    "version": 3
   },
   "file_extension": ".py",
   "mimetype": "text/x-python",
   "name": "python",
   "nbconvert_exporter": "python",
   "pygments_lexer": "ipython3",
   "version": "3.6.7"
  }
 },
 "nbformat": 4,
 "nbformat_minor": 2
}
